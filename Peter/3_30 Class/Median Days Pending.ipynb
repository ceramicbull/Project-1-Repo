{
 "cells": [
  {
   "cell_type": "code",
   "execution_count": 1,
   "id": "160cfd16",
   "metadata": {},
   "outputs": [],
   "source": [
    "import pandas as pd"
   ]
  },
  {
   "cell_type": "code",
   "execution_count": 2,
   "id": "308384ab",
   "metadata": {},
   "outputs": [],
   "source": [
    "ps_median_days_pending_file = 'Median_Days_Pending.csv'"
   ]
  },
  {
   "cell_type": "code",
   "execution_count": 3,
   "id": "aa37df0e",
   "metadata": {},
   "outputs": [],
   "source": [
    "ps_median_days_pending_df = pd.read_csv(ps_median_days_pending_file)"
   ]
  },
  {
   "cell_type": "code",
   "execution_count": 4,
   "id": "fdd02a6c",
   "metadata": {},
   "outputs": [],
   "source": [
    "ps_median_days_pending_df.drop(ps_median_days_pending_df.iloc[:,3:10], inplace=True, axis=1)"
   ]
  },
  {
   "cell_type": "code",
   "execution_count": 5,
   "id": "355791a1",
   "metadata": {},
   "outputs": [],
   "source": [
    "ps_median_days_pending_df.drop(['RegionID','2/28/2023'], inplace=True, axis=1)"
   ]
  },
  {
   "cell_type": "code",
   "execution_count": 6,
   "id": "39dc3c99",
   "metadata": {},
   "outputs": [],
   "source": [
    "ps_top_25_mdp_df = ps_median_days_pending_df.loc[(ps_median_days_pending_df['SizeRank'] <26), :]"
   ]
  },
  {
   "cell_type": "code",
   "execution_count": 7,
   "id": "e5eeb0a0",
   "metadata": {},
   "outputs": [],
   "source": [
    "ps_column_names=list(ps_top_25_mdp_df.columns)\n",
    "ps_new_list=[]\n",
    "ps_data_name='Median Days Pending'\n",
    "for ps_name in ps_column_names:\n",
    "    ps_new_list.append(f'{ps_data_name} {ps_name}')\n",
    "ps_top_25_mdp_df.columns=ps_new_list"
   ]
  },
  {
   "cell_type": "code",
   "execution_count": 8,
   "id": "9c47266f",
   "metadata": {},
   "outputs": [],
   "source": [
    "ps_top_25_mdp_df.to_csv('Top 25 Median Days Pending.csv', index=False, header=True)"
   ]
  },
  {
   "cell_type": "code",
   "execution_count": null,
   "id": "1b5cc637",
   "metadata": {},
   "outputs": [],
   "source": []
  }
 ],
 "metadata": {
  "kernelspec": {
   "display_name": "Python 3 (ipykernel)",
   "language": "python",
   "name": "python3"
  },
  "language_info": {
   "codemirror_mode": {
    "name": "ipython",
    "version": 3
   },
   "file_extension": ".py",
   "mimetype": "text/x-python",
   "name": "python",
   "nbconvert_exporter": "python",
   "pygments_lexer": "ipython3",
   "version": "3.9.13"
  }
 },
 "nbformat": 4,
 "nbformat_minor": 5
}
